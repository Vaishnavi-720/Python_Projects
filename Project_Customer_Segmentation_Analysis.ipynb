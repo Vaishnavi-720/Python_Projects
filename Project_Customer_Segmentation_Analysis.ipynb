{
 "cells": [
  {
   "cell_type": "markdown",
   "id": "ab70e31b",
   "metadata": {},
   "source": [
    "# Customer_Segmentation"
   ]
  },
  {
   "cell_type": "markdown",
   "id": "ba62d1c3",
   "metadata": {},
   "source": [
    "# Data Preprocessing "
   ]
  },
  {
   "cell_type": "code",
   "execution_count": 1,
   "id": "ad17e801",
   "metadata": {},
   "outputs": [],
   "source": [
    "# Steps of preprocessing Data\n",
    "# step 1 - Import necessary liabrary\n",
    "# step 2 - Read Dataset\n",
    "# step 3 - Sanity Check of Data\n",
    "# step 4 - Exploratory Data Analysis (EDA)\n",
    "# step 5 - Missing Values Treatments\n",
    "# step 6 - Outliers treatment\n",
    "# step 7 - duplicates & garbage value treatments"
   ]
  },
  {
   "cell_type": "markdown",
   "id": "a2dbbecf",
   "metadata": {},
   "source": [
    "## Step 1 : Import necessary liabrary "
   ]
  },
  {
   "cell_type": "code",
   "execution_count": 2,
   "id": "0fcca18e",
   "metadata": {},
   "outputs": [],
   "source": [
    "import pandas as pd\n",
    "import numpy as np\n",
    "import seaborn as sns\n",
    "import matplotlib.pyplot as plt"
   ]
  },
  {
   "cell_type": "markdown",
   "id": "aa0ba176",
   "metadata": {},
   "source": [
    "## Step 2 : Read Dataset "
   ]
  },
  {
   "cell_type": "code",
   "execution_count": 3,
   "id": "e1a75dc7",
   "metadata": {},
   "outputs": [],
   "source": [
    "df=pd.read_csv(r\"C:\\Users\\Sarvadnya\\Documents\\Internship\\CSV\\Customer_Segmentation_Analysis.csv\")"
   ]
  },
  {
   "cell_type": "code",
   "execution_count": 4,
   "id": "7ded3de7",
   "metadata": {},
   "outputs": [
    {
     "data": {
      "text/html": [
       "<div>\n",
       "<style scoped>\n",
       "    .dataframe tbody tr th:only-of-type {\n",
       "        vertical-align: middle;\n",
       "    }\n",
       "\n",
       "    .dataframe tbody tr th {\n",
       "        vertical-align: top;\n",
       "    }\n",
       "\n",
       "    .dataframe thead th {\n",
       "        text-align: right;\n",
       "    }\n",
       "</style>\n",
       "<table border=\"1\" class=\"dataframe\">\n",
       "  <thead>\n",
       "    <tr style=\"text-align: right;\">\n",
       "      <th></th>\n",
       "      <th>invoice_no</th>\n",
       "      <th>customer_id</th>\n",
       "      <th>gender</th>\n",
       "      <th>age</th>\n",
       "      <th>category</th>\n",
       "      <th>quantity</th>\n",
       "      <th>price</th>\n",
       "      <th>payment_method</th>\n",
       "      <th>invoice_date</th>\n",
       "      <th>shopping_mall</th>\n",
       "    </tr>\n",
       "  </thead>\n",
       "  <tbody>\n",
       "    <tr>\n",
       "      <th>0</th>\n",
       "      <td>I100008</td>\n",
       "      <td>C199951</td>\n",
       "      <td>Male</td>\n",
       "      <td>65</td>\n",
       "      <td>Clothing</td>\n",
       "      <td>5</td>\n",
       "      <td>1500.40</td>\n",
       "      <td>Cash</td>\n",
       "      <td>10-07-2022</td>\n",
       "      <td>Emaar Square Mall</td>\n",
       "    </tr>\n",
       "    <tr>\n",
       "      <th>1</th>\n",
       "      <td>I100014</td>\n",
       "      <td>C138893</td>\n",
       "      <td>Male</td>\n",
       "      <td>55</td>\n",
       "      <td>Cosmetics</td>\n",
       "      <td>5</td>\n",
       "      <td>203.30</td>\n",
       "      <td>Cash</td>\n",
       "      <td>18-06-2021</td>\n",
       "      <td>Viaport Outlet</td>\n",
       "    </tr>\n",
       "    <tr>\n",
       "      <th>2</th>\n",
       "      <td>I100015</td>\n",
       "      <td>C132779</td>\n",
       "      <td>Female</td>\n",
       "      <td>35</td>\n",
       "      <td>Clothing</td>\n",
       "      <td>2</td>\n",
       "      <td>600.16</td>\n",
       "      <td>Debit Card</td>\n",
       "      <td>04-03-2021</td>\n",
       "      <td>Mall of Istanbul</td>\n",
       "    </tr>\n",
       "    <tr>\n",
       "      <th>3</th>\n",
       "      <td>I100024</td>\n",
       "      <td>C244411</td>\n",
       "      <td>Female</td>\n",
       "      <td>67</td>\n",
       "      <td>Books</td>\n",
       "      <td>3</td>\n",
       "      <td>45.45</td>\n",
       "      <td>Credit Card</td>\n",
       "      <td>05-01-2023</td>\n",
       "      <td>Emaar Square Mall</td>\n",
       "    </tr>\n",
       "    <tr>\n",
       "      <th>4</th>\n",
       "      <td>I100027</td>\n",
       "      <td>C150002</td>\n",
       "      <td>Female</td>\n",
       "      <td>19</td>\n",
       "      <td>Technology</td>\n",
       "      <td>4</td>\n",
       "      <td>4200.00</td>\n",
       "      <td>Cash</td>\n",
       "      <td>18-05-2022</td>\n",
       "      <td>Mall of Istanbul</td>\n",
       "    </tr>\n",
       "  </tbody>\n",
       "</table>\n",
       "</div>"
      ],
      "text/plain": [
       "  invoice_no customer_id  gender  age    category  quantity    price  \\\n",
       "0    I100008     C199951    Male   65    Clothing         5  1500.40   \n",
       "1    I100014     C138893    Male   55   Cosmetics         5   203.30   \n",
       "2    I100015     C132779  Female   35    Clothing         2   600.16   \n",
       "3    I100024     C244411  Female   67       Books         3    45.45   \n",
       "4    I100027     C150002  Female   19  Technology         4  4200.00   \n",
       "\n",
       "  payment_method invoice_date      shopping_mall  \n",
       "0           Cash   10-07-2022  Emaar Square Mall  \n",
       "1           Cash   18-06-2021     Viaport Outlet  \n",
       "2     Debit Card   04-03-2021   Mall of Istanbul  \n",
       "3    Credit Card   05-01-2023  Emaar Square Mall  \n",
       "4           Cash   18-05-2022   Mall of Istanbul  "
      ]
     },
     "execution_count": 4,
     "metadata": {},
     "output_type": "execute_result"
    }
   ],
   "source": [
    "#Top 5 rows\n",
    "df.head()"
   ]
  },
  {
   "cell_type": "code",
   "execution_count": 5,
   "id": "a0a95bdb",
   "metadata": {},
   "outputs": [
    {
     "data": {
      "text/html": [
       "<div>\n",
       "<style scoped>\n",
       "    .dataframe tbody tr th:only-of-type {\n",
       "        vertical-align: middle;\n",
       "    }\n",
       "\n",
       "    .dataframe tbody tr th {\n",
       "        vertical-align: top;\n",
       "    }\n",
       "\n",
       "    .dataframe thead th {\n",
       "        text-align: right;\n",
       "    }\n",
       "</style>\n",
       "<table border=\"1\" class=\"dataframe\">\n",
       "  <thead>\n",
       "    <tr style=\"text-align: right;\">\n",
       "      <th></th>\n",
       "      <th>invoice_no</th>\n",
       "      <th>customer_id</th>\n",
       "      <th>gender</th>\n",
       "      <th>age</th>\n",
       "      <th>category</th>\n",
       "      <th>quantity</th>\n",
       "      <th>price</th>\n",
       "      <th>payment_method</th>\n",
       "      <th>invoice_date</th>\n",
       "      <th>shopping_mall</th>\n",
       "    </tr>\n",
       "  </thead>\n",
       "  <tbody>\n",
       "    <tr>\n",
       "      <th>99452</th>\n",
       "      <td>I999956</td>\n",
       "      <td>C925896</td>\n",
       "      <td>Male</td>\n",
       "      <td>69</td>\n",
       "      <td>Toys</td>\n",
       "      <td>4</td>\n",
       "      <td>143.36</td>\n",
       "      <td>Credit Card</td>\n",
       "      <td>16-08-2021</td>\n",
       "      <td>Metrocity</td>\n",
       "    </tr>\n",
       "    <tr>\n",
       "      <th>99453</th>\n",
       "      <td>I999959</td>\n",
       "      <td>C695980</td>\n",
       "      <td>Female</td>\n",
       "      <td>68</td>\n",
       "      <td>Clothing</td>\n",
       "      <td>4</td>\n",
       "      <td>1200.32</td>\n",
       "      <td>Credit Card</td>\n",
       "      <td>13-10-2021</td>\n",
       "      <td>Kanyon</td>\n",
       "    </tr>\n",
       "    <tr>\n",
       "      <th>99454</th>\n",
       "      <td>I999972</td>\n",
       "      <td>C195931</td>\n",
       "      <td>Male</td>\n",
       "      <td>63</td>\n",
       "      <td>Technology</td>\n",
       "      <td>2</td>\n",
       "      <td>2100.00</td>\n",
       "      <td>Debit Card</td>\n",
       "      <td>23-01-2021</td>\n",
       "      <td>Istinye Park</td>\n",
       "    </tr>\n",
       "    <tr>\n",
       "      <th>99455</th>\n",
       "      <td>I999973</td>\n",
       "      <td>C248542</td>\n",
       "      <td>Male</td>\n",
       "      <td>28</td>\n",
       "      <td>Technology</td>\n",
       "      <td>1</td>\n",
       "      <td>1050.00</td>\n",
       "      <td>Credit Card</td>\n",
       "      <td>11-01-2023</td>\n",
       "      <td>Mall of Istanbul</td>\n",
       "    </tr>\n",
       "    <tr>\n",
       "      <th>99456</th>\n",
       "      <td>I999994</td>\n",
       "      <td>C299697</td>\n",
       "      <td>Female</td>\n",
       "      <td>21</td>\n",
       "      <td>Technology</td>\n",
       "      <td>3</td>\n",
       "      <td>3150.00</td>\n",
       "      <td>Cash</td>\n",
       "      <td>09-04-2021</td>\n",
       "      <td>Kanyon</td>\n",
       "    </tr>\n",
       "  </tbody>\n",
       "</table>\n",
       "</div>"
      ],
      "text/plain": [
       "      invoice_no customer_id  gender  age    category  quantity    price  \\\n",
       "99452    I999956     C925896    Male   69        Toys         4   143.36   \n",
       "99453    I999959     C695980  Female   68    Clothing         4  1200.32   \n",
       "99454    I999972     C195931    Male   63  Technology         2  2100.00   \n",
       "99455    I999973     C248542    Male   28  Technology         1  1050.00   \n",
       "99456    I999994     C299697  Female   21  Technology         3  3150.00   \n",
       "\n",
       "      payment_method invoice_date     shopping_mall  \n",
       "99452    Credit Card   16-08-2021         Metrocity  \n",
       "99453    Credit Card   13-10-2021            Kanyon  \n",
       "99454     Debit Card   23-01-2021      Istinye Park  \n",
       "99455    Credit Card   11-01-2023  Mall of Istanbul  \n",
       "99456           Cash   09-04-2021            Kanyon  "
      ]
     },
     "execution_count": 5,
     "metadata": {},
     "output_type": "execute_result"
    }
   ],
   "source": [
    "#Bottom 5 rows\n",
    "df.tail()"
   ]
  },
  {
   "cell_type": "markdown",
   "id": "10b135c2",
   "metadata": {},
   "source": [
    "## Step 3 : Sanity Check of Data "
   ]
  },
  {
   "cell_type": "code",
   "execution_count": 6,
   "id": "2fee53dd",
   "metadata": {},
   "outputs": [
    {
     "data": {
      "text/plain": [
       "(99457, 10)"
      ]
     },
     "execution_count": 6,
     "metadata": {},
     "output_type": "execute_result"
    }
   ],
   "source": [
    "#Shape i.e number of rows & colums\n",
    "df.shape"
   ]
  },
  {
   "cell_type": "code",
   "execution_count": 7,
   "id": "0e6d5224",
   "metadata": {},
   "outputs": [
    {
     "name": "stdout",
     "output_type": "stream",
     "text": [
      "<class 'pandas.core.frame.DataFrame'>\n",
      "RangeIndex: 99457 entries, 0 to 99456\n",
      "Data columns (total 10 columns):\n",
      " #   Column          Non-Null Count  Dtype  \n",
      "---  ------          --------------  -----  \n",
      " 0   invoice_no      99457 non-null  object \n",
      " 1   customer_id     99457 non-null  object \n",
      " 2   gender          99457 non-null  object \n",
      " 3   age             99457 non-null  int64  \n",
      " 4   category        99457 non-null  object \n",
      " 5   quantity        99457 non-null  int64  \n",
      " 6   price           99457 non-null  float64\n",
      " 7   payment_method  99457 non-null  object \n",
      " 8   invoice_date    99457 non-null  object \n",
      " 9   shopping_mall   99457 non-null  object \n",
      "dtypes: float64(1), int64(2), object(7)\n",
      "memory usage: 7.6+ MB\n"
     ]
    }
   ],
   "source": [
    "#info()\n",
    "df.info()"
   ]
  },
  {
   "cell_type": "code",
   "execution_count": 8,
   "id": "4a89d2ae",
   "metadata": {},
   "outputs": [
    {
     "data": {
      "text/plain": [
       "invoice_no        0\n",
       "customer_id       0\n",
       "gender            0\n",
       "age               0\n",
       "category          0\n",
       "quantity          0\n",
       "price             0\n",
       "payment_method    0\n",
       "invoice_date      0\n",
       "shopping_mall     0\n",
       "dtype: int64"
      ]
     },
     "execution_count": 8,
     "metadata": {},
     "output_type": "execute_result"
    }
   ],
   "source": [
    "#finding missing value \n",
    "df.isnull().sum()"
   ]
  },
  {
   "cell_type": "code",
   "execution_count": 9,
   "id": "09a5ed97",
   "metadata": {},
   "outputs": [
    {
     "data": {
      "text/plain": [
       "invoice_no        0.0\n",
       "customer_id       0.0\n",
       "gender            0.0\n",
       "age               0.0\n",
       "category          0.0\n",
       "quantity          0.0\n",
       "price             0.0\n",
       "payment_method    0.0\n",
       "invoice_date      0.0\n",
       "shopping_mall     0.0\n",
       "dtype: float64"
      ]
     },
     "execution_count": 9,
     "metadata": {},
     "output_type": "execute_result"
    }
   ],
   "source": [
    "#percentage of missing values\n",
    "df.isnull().sum()/df.shape[0]*100"
   ]
  },
  {
   "cell_type": "code",
   "execution_count": 10,
   "id": "c2d7b573",
   "metadata": {},
   "outputs": [
    {
     "data": {
      "text/plain": [
       "0"
      ]
     },
     "execution_count": 10,
     "metadata": {},
     "output_type": "execute_result"
    }
   ],
   "source": [
    "#finding duplicates\n",
    "df.duplicated().sum()"
   ]
  },
  {
   "cell_type": "code",
   "execution_count": 11,
   "id": "e162a078",
   "metadata": {},
   "outputs": [
    {
     "name": "stdout",
     "output_type": "stream",
     "text": [
      "I100008    1\n",
      "I312466    1\n",
      "I312529    1\n",
      "I312524    1\n",
      "I312523    1\n",
      "          ..\n",
      "I206379    1\n",
      "I206377    1\n",
      "I206375    1\n",
      "I206374    1\n",
      "I999994    1\n",
      "Name: invoice_no, Length: 99457, dtype: int64\n",
      "******************************\n",
      "C199951    1\n",
      "C139574    1\n",
      "C419632    1\n",
      "C123511    1\n",
      "C248293    1\n",
      "          ..\n",
      "C272482    1\n",
      "C238664    1\n",
      "C326234    1\n",
      "C307052    1\n",
      "C299697    1\n",
      "Name: customer_id, Length: 99457, dtype: int64\n",
      "******************************\n",
      "Female    59482\n",
      "Male      39975\n",
      "Name: gender, dtype: int64\n",
      "******************************\n",
      "Clothing           34487\n",
      "Cosmetics          15097\n",
      "Food & Beverage    14776\n",
      "Toys               10087\n",
      "Shoes              10034\n",
      "Souvenir            4999\n",
      "Technology          4996\n",
      "Books               4981\n",
      "Name: category, dtype: int64\n",
      "******************************\n",
      "Cash           44447\n",
      "Credit Card    34931\n",
      "Debit Card     20079\n",
      "Name: payment_method, dtype: int64\n",
      "******************************\n",
      "24-11-2021    159\n",
      "26-02-2023    156\n",
      "25-07-2022    155\n",
      "06-01-2021    155\n",
      "23-10-2022    155\n",
      "             ... \n",
      "18-10-2022     98\n",
      "29-05-2021     98\n",
      "30-09-2021     96\n",
      "02-12-2021     94\n",
      "16-01-2022     93\n",
      "Name: invoice_date, Length: 797, dtype: int64\n",
      "******************************\n",
      "Mall of Istanbul     19943\n",
      "Kanyon               19823\n",
      "Metrocity            15011\n",
      "Metropol AVM         10161\n",
      "Istinye Park          9781\n",
      "Zorlu Center          5075\n",
      "Cevahir AVM           4991\n",
      "Forum Istanbul        4947\n",
      "Viaport Outlet        4914\n",
      "Emaar Square Mall     4811\n",
      "Name: shopping_mall, dtype: int64\n",
      "******************************\n"
     ]
    }
   ],
   "source": [
    "#identifying Garbage Values\n",
    "for i in df.select_dtypes(include=\"object\").columns:\n",
    "    print(df[i].value_counts())\n",
    "    print(\"***\"*10)"
   ]
  },
  {
   "cell_type": "markdown",
   "id": "e41d9a06",
   "metadata": {},
   "source": [
    "## Step 4 : Exploratory Data Analysis (EDA) "
   ]
  },
  {
   "cell_type": "code",
   "execution_count": 12,
   "id": "0c165d96",
   "metadata": {},
   "outputs": [
    {
     "data": {
      "text/html": [
       "<div>\n",
       "<style scoped>\n",
       "    .dataframe tbody tr th:only-of-type {\n",
       "        vertical-align: middle;\n",
       "    }\n",
       "\n",
       "    .dataframe tbody tr th {\n",
       "        vertical-align: top;\n",
       "    }\n",
       "\n",
       "    .dataframe thead th {\n",
       "        text-align: right;\n",
       "    }\n",
       "</style>\n",
       "<table border=\"1\" class=\"dataframe\">\n",
       "  <thead>\n",
       "    <tr style=\"text-align: right;\">\n",
       "      <th></th>\n",
       "      <th>count</th>\n",
       "      <th>mean</th>\n",
       "      <th>std</th>\n",
       "      <th>min</th>\n",
       "      <th>25%</th>\n",
       "      <th>50%</th>\n",
       "      <th>75%</th>\n",
       "      <th>max</th>\n",
       "    </tr>\n",
       "  </thead>\n",
       "  <tbody>\n",
       "    <tr>\n",
       "      <th>age</th>\n",
       "      <td>99457.0</td>\n",
       "      <td>43.427089</td>\n",
       "      <td>14.990054</td>\n",
       "      <td>18.00</td>\n",
       "      <td>30.00</td>\n",
       "      <td>43.0</td>\n",
       "      <td>56.00</td>\n",
       "      <td>69.0</td>\n",
       "    </tr>\n",
       "    <tr>\n",
       "      <th>quantity</th>\n",
       "      <td>99457.0</td>\n",
       "      <td>3.003429</td>\n",
       "      <td>1.413025</td>\n",
       "      <td>1.00</td>\n",
       "      <td>2.00</td>\n",
       "      <td>3.0</td>\n",
       "      <td>4.00</td>\n",
       "      <td>5.0</td>\n",
       "    </tr>\n",
       "    <tr>\n",
       "      <th>price</th>\n",
       "      <td>99457.0</td>\n",
       "      <td>689.256321</td>\n",
       "      <td>941.184567</td>\n",
       "      <td>5.23</td>\n",
       "      <td>45.45</td>\n",
       "      <td>203.3</td>\n",
       "      <td>1200.32</td>\n",
       "      <td>5250.0</td>\n",
       "    </tr>\n",
       "  </tbody>\n",
       "</table>\n",
       "</div>"
      ],
      "text/plain": [
       "            count        mean         std    min    25%    50%      75%  \\\n",
       "age       99457.0   43.427089   14.990054  18.00  30.00   43.0    56.00   \n",
       "quantity  99457.0    3.003429    1.413025   1.00   2.00    3.0     4.00   \n",
       "price     99457.0  689.256321  941.184567   5.23  45.45  203.3  1200.32   \n",
       "\n",
       "             max  \n",
       "age         69.0  \n",
       "quantity     5.0  \n",
       "price     5250.0  "
      ]
     },
     "execution_count": 12,
     "metadata": {},
     "output_type": "execute_result"
    }
   ],
   "source": [
    "#descriptive Statistics\n",
    "df.describe().T"
   ]
  },
  {
   "cell_type": "code",
   "execution_count": 13,
   "id": "551a321f",
   "metadata": {},
   "outputs": [
    {
     "data": {
      "text/html": [
       "<div>\n",
       "<style scoped>\n",
       "    .dataframe tbody tr th:only-of-type {\n",
       "        vertical-align: middle;\n",
       "    }\n",
       "\n",
       "    .dataframe tbody tr th {\n",
       "        vertical-align: top;\n",
       "    }\n",
       "\n",
       "    .dataframe thead th {\n",
       "        text-align: right;\n",
       "    }\n",
       "</style>\n",
       "<table border=\"1\" class=\"dataframe\">\n",
       "  <thead>\n",
       "    <tr style=\"text-align: right;\">\n",
       "      <th></th>\n",
       "      <th>count</th>\n",
       "      <th>unique</th>\n",
       "      <th>top</th>\n",
       "      <th>freq</th>\n",
       "    </tr>\n",
       "  </thead>\n",
       "  <tbody>\n",
       "    <tr>\n",
       "      <th>invoice_no</th>\n",
       "      <td>99457</td>\n",
       "      <td>99457</td>\n",
       "      <td>I100008</td>\n",
       "      <td>1</td>\n",
       "    </tr>\n",
       "    <tr>\n",
       "      <th>customer_id</th>\n",
       "      <td>99457</td>\n",
       "      <td>99457</td>\n",
       "      <td>C199951</td>\n",
       "      <td>1</td>\n",
       "    </tr>\n",
       "    <tr>\n",
       "      <th>gender</th>\n",
       "      <td>99457</td>\n",
       "      <td>2</td>\n",
       "      <td>Female</td>\n",
       "      <td>59482</td>\n",
       "    </tr>\n",
       "    <tr>\n",
       "      <th>category</th>\n",
       "      <td>99457</td>\n",
       "      <td>8</td>\n",
       "      <td>Clothing</td>\n",
       "      <td>34487</td>\n",
       "    </tr>\n",
       "    <tr>\n",
       "      <th>payment_method</th>\n",
       "      <td>99457</td>\n",
       "      <td>3</td>\n",
       "      <td>Cash</td>\n",
       "      <td>44447</td>\n",
       "    </tr>\n",
       "    <tr>\n",
       "      <th>invoice_date</th>\n",
       "      <td>99457</td>\n",
       "      <td>797</td>\n",
       "      <td>24-11-2021</td>\n",
       "      <td>159</td>\n",
       "    </tr>\n",
       "    <tr>\n",
       "      <th>shopping_mall</th>\n",
       "      <td>99457</td>\n",
       "      <td>10</td>\n",
       "      <td>Mall of Istanbul</td>\n",
       "      <td>19943</td>\n",
       "    </tr>\n",
       "  </tbody>\n",
       "</table>\n",
       "</div>"
      ],
      "text/plain": [
       "                count unique               top   freq\n",
       "invoice_no      99457  99457           I100008      1\n",
       "customer_id     99457  99457           C199951      1\n",
       "gender          99457      2            Female  59482\n",
       "category        99457      8          Clothing  34487\n",
       "payment_method  99457      3              Cash  44447\n",
       "invoice_date    99457    797        24-11-2021    159\n",
       "shopping_mall   99457     10  Mall of Istanbul  19943"
      ]
     },
     "execution_count": 13,
     "metadata": {},
     "output_type": "execute_result"
    }
   ],
   "source": [
    "#Categorical column\n",
    "df.describe(include=\"object\").T"
   ]
  },
  {
   "cell_type": "code",
   "execution_count": 14,
   "id": "f04da0ac",
   "metadata": {},
   "outputs": [
    {
     "data": {
      "image/png": "[encoded data removed]",
      "text/plain": [
       "<Figure size 640x480 with 1 Axes>"
      ]
     },
     "metadata": {},
     "output_type": "display_data"
    },
    {
     "data": {
      "image/png": "[encoded data removed]",
      "text/plain": [
       "<Figure size 640x480 with 1 Axes>"
      ]
     },
     "metadata": {},
     "output_type": "display_data"
    },
    {
     "data": {
      "image/png": "[encoded data removed]",
      "text/plain": [
       "<Figure size 640x480 with 1 Axes>"
      ]
     },
     "metadata": {},
     "output_type": "display_data"
    }
   ],
   "source": [
    "# Histogram to understand the distribution\n",
    "for i in df.select_dtypes(include=\"number\").columns:\n",
    "    sns.histplot(data = df, x = i)\n",
    "    plt.show()"
   ]
  },
  {
   "cell_type": "code",
   "execution_count": 15,
   "id": "a4433bb2",
   "metadata": {},
   "outputs": [
    {
     "data": {
      "image/png": "[encoded data removed]",
      "text/plain": [
       "<Figure size 640x480 with 1 Axes>"
      ]
     },
     "metadata": {},
     "output_type": "display_data"
    },
    {
     "data": {
      "image/png": "[encoded data removed]",
      "text/plain": [
       "<Figure size 640x480 with 1 Axes>"
      ]
     },
     "metadata": {},
     "output_type": "display_data"
    },
    {
     "data": {
      "image/png": "[encoded data removed]",
      "text/plain": [
       "<Figure size 640x480 with 1 Axes>"
      ]
     },
     "metadata": {},
     "output_type": "display_data"
    }
   ],
   "source": [
    "# BoxPlot to identify the outliers\n",
    "for i in df.select_dtypes(include=\"number\").columns:\n",
    "    sns.boxplot(data = df, x = i)\n",
    "    plt.show()"
   ]
  },
  {
   "cell_type": "code",
   "execution_count": 16,
   "id": "159c7ff9",
   "metadata": {},
   "outputs": [
    {
     "data": {
      "image/png": "[encoded data removed]",
      "text/plain": [
       "<Figure size 640x480 with 1 Axes>"
      ]
     },
     "metadata": {},
     "output_type": "display_data"
    },
    {
     "data": {
      "image/png": "[encoded data removed]",
      "text/plain": [
       "<Figure size 640x480 with 1 Axes>"
      ]
     },
     "metadata": {},
     "output_type": "display_data"
    }
   ],
   "source": [
    "# Scatterplot to understand the relationship \n",
    "for i in ['age', 'quantity']:\n",
    "    sns.scatterplot(data = df, x = i, y = 'price')\n",
    "    plt.show()"
   ]
  },
  {
   "cell_type": "code",
   "execution_count": 17,
   "id": "43784171",
   "metadata": {},
   "outputs": [
    {
     "data": {
      "text/plain": [
       "Index(['age', 'quantity', 'price'], dtype='object')"
      ]
     },
     "execution_count": 17,
     "metadata": {},
     "output_type": "execute_result"
    }
   ],
   "source": [
    "df.select_dtypes(include=\"number\").columns\n",
    "#df.select_dtypes(include=\"object\").columns"
   ]
  },
  {
   "cell_type": "code",
   "execution_count": 20,
   "id": "5a76ce76",
   "metadata": {},
   "outputs": [],
   "source": [
    "#correlation with heatmap to interpret \n",
    "s = df.select_dtypes(include=\"number\").corr()"
   ]
  },
  {
   "cell_type": "code",
   "execution_count": 23,
   "id": "53a6345e",
   "metadata": {},
   "outputs": [
    {
     "data": {
      "text/plain": [
       "<Axes: >"
      ]
     },
     "execution_count": 23,
     "metadata": {},
     "output_type": "execute_result"
    },
    {
     "data": {
      "image/png": "[encoded data removed]",
      "text/plain": [
       "<Figure size 640x480 with 2 Axes>"
      ]
     },
     "metadata": {},
     "output_type": "display_data"
    }
   ],
   "source": [
    "sns.heatmap(data = s, annot = True)"
   ]
  },
  {
   "cell_type": "markdown",
   "id": "70c74cb7",
   "metadata": {},
   "source": [
    "## Step 5 : Missing Value Treatment "
   ]
  },
  {
   "cell_type": "code",
   "execution_count": null,
   "id": "61e62287",
   "metadata": {},
   "outputs": [],
   "source": [
    "#choose the method of imputing missing Value\n",
    "# mean, mode, median or KNNImputer"
   ]
  },
  {
   "cell_type": "code",
   "execution_count": null,
   "id": "4727b2fe",
   "metadata": {},
   "outputs": [],
   "source": [
    "#For changing missing values with median\n",
    "# for i in [\"Column_Name\"]:\n",
    "   # df[i].fillna(df[i].median(),inplace = True)"
   ]
  },
  {
   "cell_type": "code",
   "execution_count": null,
   "id": "489663cb",
   "metadata": {},
   "outputs": [],
   "source": [
    "#algorithm to fill missing values\n",
    "\n",
    "# from sklearn.impute import KNNImputer\n",
    "# impute = KNNImputer()\n",
    "\n",
    "#for i in df.select_dtypes(include = \"number\").column:\n",
    "#   df[i]= impute.fit_transform(df[[i]])"
   ]
  },
  {
   "cell_type": "markdown",
   "id": "b1d96993",
   "metadata": {},
   "source": [
    "### In this data there's zero missing value, so we can skip this step! "
   ]
  },
  {
   "cell_type": "markdown",
   "id": "74dcdf8b",
   "metadata": {},
   "source": [
    "## Step 6 : Outliers treatments "
   ]
  },
  {
   "cell_type": "code",
   "execution_count": null,
   "id": "acc4a1b5",
   "metadata": {},
   "outputs": [],
   "source": [
    "# Decide whether to do outliers treatment or not ?"
   ]
  },
  {
   "cell_type": "markdown",
   "id": "fea0a21e",
   "metadata": {},
   "source": [
    "### in this case we will not do the outlier treatment "
   ]
  },
  {
   "cell_type": "markdown",
   "id": "840d3175",
   "metadata": {},
   "source": [
    "## Step 7 : Duplicates & Garbage value treatment "
   ]
  },
  {
   "cell_type": "markdown",
   "id": "4b4b28b0",
   "metadata": {},
   "source": [
    "### In this dataset we don't have any duplicates and Garbage Value, so we will skip this step!"
   ]
  },
  {
   "cell_type": "markdown",
   "id": "30d6b077",
   "metadata": {},
   "source": []
  }
 ],
 "metadata": {
  "kernelspec": {
   "display_name": "Python 3 (ipykernel)",
   "language": "python",
   "name": "python3"
  },
  "language_info": {
   "codemirror_mode": {
    "name": "ipython",
    "version": 3
   },
   "file_extension": ".py",
   "mimetype": "text/x-python",
   "name": "python",
   "nbconvert_exporter": "python",
   "pygments_lexer": "ipython3",
   "version": "3.11.4"
  }
 },
 "nbformat": 4,
 "nbformat_minor": 5
}
